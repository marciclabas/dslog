{
 "cells": [
  {
   "cell_type": "code",
   "execution_count": 11,
   "metadata": {},
   "outputs": [
    {
     "data": {
      "text/html": [
       "<pre style=\"white-space:pre;overflow-x:auto;line-height:normal;font-family:Menlo,'DejaVu Sans Mono',consolas,'Courier New',monospace\"><span style=\"color: #808000; text-decoration-color: #808000; font-weight: bold\">[</span><span style=\"color: #808000; text-decoration-color: #808000\">WARNING</span><span style=\"color: #808000; text-decoration-color: #808000; font-weight: bold\">]</span> Oops!\n",
       "<span style=\"font-weight: bold\">{</span><span style=\"color: #008000; text-decoration-color: #008000\">'more'</span>: <span style=\"color: #008000; text-decoration-color: #008000\">'details'</span><span style=\"font-weight: bold\">}</span>\n",
       "</pre>\n"
      ],
      "text/plain": [
       "\u001b[1;33m[\u001b[0m\u001b[33mWARNING\u001b[0m\u001b[1;33m]\u001b[0m Oops!\n",
       "\u001b[1m{\u001b[0m\u001b[32m'more'\u001b[0m: \u001b[32m'details'\u001b[0m\u001b[1m}\u001b[0m\n"
      ]
     },
     "metadata": {},
     "output_type": "display_data"
    }
   ],
   "source": [
    "import rich\n",
    "from dslog import Logger\n",
    "\n",
    "logger = Logger.rich() \\\n",
    "  .limit('WARNING')\n",
    "\n",
    "logger('My message', ..., level='INFO')\n",
    "# doesn't print anything\n",
    "logger('Oops!', { 'more': 'details' }, level='WARNING')\n",
    "# [WARNING] Oops! { 'more', 'details' }     ([WARNING] in yellow)"
   ]
  }
 ],
 "metadata": {
  "kernelspec": {
   "display_name": ".venv",
   "language": "python",
   "name": "python3"
  },
  "language_info": {
   "codemirror_mode": {
    "name": "ipython",
    "version": 3
   },
   "file_extension": ".py",
   "mimetype": "text/x-python",
   "name": "python",
   "nbconvert_exporter": "python",
   "pygments_lexer": "ipython3",
   "version": "3.11.6"
  }
 },
 "nbformat": 4,
 "nbformat_minor": 2
}
